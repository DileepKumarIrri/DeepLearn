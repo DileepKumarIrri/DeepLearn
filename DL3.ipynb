{
 "cells": [
  {
   "cell_type": "markdown",
   "id": "ee25e255",
   "metadata": {},
   "source": [
    "Speech To Text Recognition\n",
    "\n",
    "Using microphone"
   ]
  },
  {
   "cell_type": "code",
   "execution_count": null,
   "id": "88fc7033",
   "metadata": {},
   "outputs": [],
   "source": [
    "!pip install PyAudio\n",
    "!pip install SpeechRecognition"
   ]
  },
  {
   "cell_type": "code",
   "execution_count": 4,
   "id": "c8c149d6",
   "metadata": {},
   "outputs": [],
   "source": [
    "import speech_recognition as sr\n",
    "recognizer = sr.Recognizer()"
   ]
  },
  {
   "cell_type": "code",
   "execution_count": 7,
   "id": "6c71dff2",
   "metadata": {},
   "outputs": [
    {
     "name": "stdout",
     "output_type": "stream",
     "text": [
      "Adjusting noise \n",
      "Listening...\n"
     ]
    }
   ],
   "source": [
    "with sr.Microphone() as source:\n",
    "    print(\"Adjusting noise \")\n",
    "    recognizer.adjust_for_ambient_noise(source)\n",
    "    print(\"Listening...\")\n",
    "    audio = recognizer.listen(source)"
   ]
  },
  {
   "cell_type": "code",
   "execution_count": null,
   "id": "dc265428",
   "metadata": {},
   "outputs": [],
   "source": [
    "try:\n",
    "    text = recognizer.recognize_google(audio, language=\"en-US\")\n",
    "    print(\"The text you have spoken is : {}\", format(text))\n",
    "except :\n",
    "    print(\"I can't understand what you have said.\")"
   ]
  },
  {
   "cell_type": "markdown",
   "id": "300ab8f7",
   "metadata": {},
   "source": [
    "Using audio files"
   ]
  },
  {
   "cell_type": "code",
   "execution_count": null,
   "id": "26c5934a",
   "metadata": {},
   "outputs": [],
   "source": [
    "with sr.AudioFile(\"/content/harvard.wav\") as source:\n",
    "    audio = recognizer.listen(source)"
   ]
  },
  {
   "cell_type": "code",
   "execution_count": null,
   "id": "68eb699b",
   "metadata": {},
   "outputs": [],
   "source": [
    "try:\n",
    "    text = recognizer.recognize_google(audio, language=\"en-US\")\n",
    "    print(\"The text you have spoken is : \", text)\n",
    "except sr.UnknownValueError:\n",
    "    print(\"I can't understand what you have said.\")"
   ]
  },
  {
   "cell_type": "markdown",
   "id": "2fb19efa",
   "metadata": {},
   "source": [
    "Using a function"
   ]
  },
  {
   "cell_type": "code",
   "execution_count": null,
   "id": "664d8ef6",
   "metadata": {},
   "outputs": [],
   "source": [
    "def startConvertion(path = '/content/harvard.wav',lang = 'en-IN'):\n",
    "    with sr.AudioFile(path) as source:\n",
    "        print('Fetching File')\n",
    "        audio_text = recognizer.listen(source)\n",
    "        try:\n",
    "           text = recognizer.recognize_google(audio, language=\"en-US\")\n",
    "           print(\"The text you have spoken is : \", text)\n",
    "        except :\n",
    "           print(\"I can't understand what you have said.\")\n",
    "startConvertion(\"/content/harvard.wav\")"
   ]
  }
 ],
 "metadata": {
  "kernelspec": {
   "display_name": "Python 3 (ipykernel)",
   "language": "python",
   "name": "python3"
  },
  "language_info": {
   "codemirror_mode": {
    "name": "ipython",
    "version": 3
   },
   "file_extension": ".py",
   "mimetype": "text/x-python",
   "name": "python",
   "nbconvert_exporter": "python",
   "pygments_lexer": "ipython3",
   "version": "3.9.13"
  }
 },
 "nbformat": 4,
 "nbformat_minor": 5
}
