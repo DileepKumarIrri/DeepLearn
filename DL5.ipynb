{
 "cells": [
  {
   "cell_type": "code",
   "execution_count": 4,
   "id": "a581b8f7",
   "metadata": {
    "scrolled": false
   },
   "outputs": [
    {
     "ename": "KeyboardInterrupt",
     "evalue": "",
     "output_type": "error",
     "traceback": [
      "\u001b[1;31m---------------------------------------------------------------------------\u001b[0m",
      "\u001b[1;31mKeyboardInterrupt\u001b[0m                         Traceback (most recent call last)",
      "Input \u001b[1;32mIn [4]\u001b[0m, in \u001b[0;36m<cell line: 35>\u001b[1;34m()\u001b[0m\n\u001b[0;32m     34\u001b[0m \u001b[38;5;66;03m# Driver Code \u001b[39;00m\n\u001b[0;32m     35\u001b[0m \u001b[38;5;28;01mif\u001b[39;00m \u001b[38;5;18m__name__\u001b[39m \u001b[38;5;241m==\u001b[39m \u001b[38;5;124m'\u001b[39m\u001b[38;5;124m__main__\u001b[39m\u001b[38;5;124m'\u001b[39m:\n\u001b[1;32m---> 36\u001b[0m     \u001b[43mFrameCapture\u001b[49m\u001b[43m(\u001b[49m\u001b[38;5;124;43mr\u001b[39;49m\u001b[38;5;124;43m\"\u001b[39;49m\u001b[38;5;124;43mC:\u001b[39;49m\u001b[38;5;124;43m\\\u001b[39;49m\u001b[38;5;124;43mUsers\u001b[39;49m\u001b[38;5;124;43m\\\u001b[39;49m\u001b[38;5;124;43mtejas\u001b[39;49m\u001b[38;5;124;43m\\\u001b[39;49m\u001b[38;5;124;43mDownloads\u001b[39;49m\u001b[38;5;124;43m\\\u001b[39;49m\u001b[38;5;124;43m5 cricketer mysterious jersey number #viratkohli #cricketnews #cricket #dhoni #shorts #indvseng.mp4\u001b[39;49m\u001b[38;5;124;43m\"\u001b[39;49m\u001b[43m)\u001b[49m\n",
      "Input \u001b[1;32mIn [4]\u001b[0m, in \u001b[0;36mFrameCapture\u001b[1;34m(path)\u001b[0m\n\u001b[0;32m     26\u001b[0m     \u001b[38;5;28;01mbreak\u001b[39;00m\n\u001b[0;32m     28\u001b[0m \u001b[38;5;66;03m# Saves the frames with frame-count \u001b[39;00m\n\u001b[1;32m---> 29\u001b[0m \u001b[43mcv2\u001b[49m\u001b[38;5;241;43m.\u001b[39;49m\u001b[43mimwrite\u001b[49m\u001b[43m(\u001b[49m\u001b[38;5;124;43m\"\u001b[39;49m\u001b[38;5;124;43mframe\u001b[39;49m\u001b[38;5;132;43;01m%d\u001b[39;49;00m\u001b[38;5;124;43m.jpg\u001b[39;49m\u001b[38;5;124;43m\"\u001b[39;49m\u001b[43m \u001b[49m\u001b[38;5;241;43m%\u001b[39;49m\u001b[43m \u001b[49m\u001b[43mcount\u001b[49m\u001b[43m,\u001b[49m\u001b[43m \u001b[49m\u001b[43mimage\u001b[49m\u001b[43m)\u001b[49m \n\u001b[0;32m     31\u001b[0m count \u001b[38;5;241m+\u001b[39m\u001b[38;5;241m=\u001b[39m \u001b[38;5;241m1\u001b[39m\n",
      "\u001b[1;31mKeyboardInterrupt\u001b[0m: "
     ]
    }
   ],
   "source": [
    "# Program To Read video \n",
    "# and Extract Frames \n",
    "\n",
    "import cv2 \n",
    "\n",
    "# Function to extract frames \n",
    "def FrameCapture(path): \n",
    "\n",
    "    # Path to video file \n",
    "    vidObj = cv2.VideoCapture(path) \n",
    "\n",
    "    # Used as counter variable \n",
    "    count = 0\n",
    "\n",
    "    # checks whether frames were extracted \n",
    "    success = 1\n",
    "\n",
    "    while success: \n",
    "\n",
    "        # vidObj object calls read \n",
    "        # function extract frames \n",
    "        success, image = vidObj.read() \n",
    "\n",
    "        # Check if the image is empty\n",
    "        if image is None:\n",
    "            break\n",
    "\n",
    "        # Saves the frames with frame-count \n",
    "        cv2.imwrite(\"frame%d.jpg\" % count, image) \n",
    "\n",
    "        count += 1\n",
    "\n",
    "\n",
    "# Driver Code \n",
    "if __name__ == '__main__':\n",
    "    FrameCapture(r\"C:\\Users\\tejas\\Downloads\\5 cricketer mysterious jersey number #viratkohli #cricketnews #cricket #dhoni #shorts #indvseng.mp4\")"
   ]
  },
  {
   "cell_type": "code",
   "execution_count": 1,
   "id": "7fdf5ce0",
   "metadata": {},
   "outputs": [
    {
     "name": "stdout",
     "output_type": "stream",
     "text": [
      "Error: Couldn't open video file.\n"
     ]
    }
   ],
   "source": [
    "import cv2\n",
    "\n",
    "def video_to_frames(video_path, output_path):\n",
    "    # Open the video file\n",
    "    cap = cv2.VideoCapture(video_path)\n",
    "\n",
    "    # Check if the video file opened successfully\n",
    "    if not cap.isOpened():\n",
    "        print(\"Error: Couldn't open video file.\")\n",
    "        return\n",
    "\n",
    "    # Get video properties\n",
    "    frame_count = int(cap.get(cv2.CAP_PROP_FRAME_COUNT))\n",
    "    fps = int(cap.get(cv2.CAP_PROP_FPS))\n",
    "\n",
    "    print(f\"Converting video to frames. Total frames: {frame_count}, FPS: {fps}\")\n",
    "\n",
    "    # Loop through each frame and save it as an image\n",
    "    for frame_num in range(5):\n",
    "        ret, frame = cap.read()\n",
    "\n",
    "        if not ret:\n",
    "            print(\"Error reading frame.\")\n",
    "            break\n",
    "\n",
    "        frame_filename = f\"{output_path}/frame_{frame_num + 1}.jpg\"\n",
    "        cv2.imwrite(frame_filename, frame)\n",
    "\n",
    "        if (frame_num + 1) % 100 == 0:\n",
    "            print(f\"Processed {frame_num + 1} frames\")\n",
    "\n",
    "    # Release the video capture object\n",
    "    cap.release()\n",
    "    print(\"Conversion completed.\")\n",
    "video_path = r\"C:\\Users\\gouth\\Downloads\\video (2160p).mp4\"\n",
    "output_path = \"output\"\n",
    "import os\n",
    "os.makedirs(output_path, exist_ok=True)\n",
    "video_to_frames(video_path, output_path)"
   ]
  },
  {
   "cell_type": "code",
   "execution_count": null,
   "id": "6c92166a",
   "metadata": {},
   "outputs": [],
   "source": []
  }
 ],
 "metadata": {
  "kernelspec": {
   "display_name": "Python 3 (ipykernel)",
   "language": "python",
   "name": "python3"
  },
  "language_info": {
   "codemirror_mode": {
    "name": "ipython",
    "version": 3
   },
   "file_extension": ".py",
   "mimetype": "text/x-python",
   "name": "python",
   "nbconvert_exporter": "python",
   "pygments_lexer": "ipython3",
   "version": "3.9.12"
  }
 },
 "nbformat": 4,
 "nbformat_minor": 5
}
